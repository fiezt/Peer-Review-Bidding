{
 "cells": [
  {
   "cell_type": "code",
   "execution_count": 4,
   "metadata": {},
   "outputs": [],
   "source": [
    "import numpy as np\n",
    "import lap\n",
    "import time\n",
    "import matplotlib.pyplot as plt"
   ]
  },
  {
   "cell_type": "code",
   "execution_count": 5,
   "metadata": {},
   "outputs": [],
   "source": [
    "def super_algorithm(g_p, g_r, f, s, bids, h, trade_param, special=False):\n",
    "    \n",
    "    \"\"\"Solve for a paper ordering for a reviewer using SUPER* procedure. \n",
    "    \n",
    "    This procedure requires numpy and the lap package https://github.com/gatagat/lap \n",
    "    to solve the linear assignment problem. \n",
    "    \n",
    "    :param g_p (function): Paper-side gain function mapping bid counts to a score. \n",
    "    The score function should be non-decreasing in the number of bids. \n",
    "    The function should handle the bid count input as an array containing \n",
    "    the number of bids for each paper ordered by the paper index or the \n",
    "    bid count input as a number for a fixed paper. \n",
    "    \n",
    "    Ex/ g_p = lambda bids: np.sqrt(bids)\n",
    "    \n",
    "    :param g_r (function): Reviewer-side gain function mapping similarity score and paper position to a score.\n",
    "    The score function should be non-decreasing in the similarity score and and non-increasing in the paper position.\n",
    "    The function should handle the similarity score input and the paper position input as arrays containing the\n",
    "    similarity scores and paper positions for each paper ordered by the paper index or the similarity score and \n",
    "    paper position for a fixed paper.\n",
    "    \n",
    "    Ex/ g_r = lambda s, pi: (2**s - 1)/np.log2(pi + 1)\n",
    "    \n",
    "    :param f (function): Bidding function mapping similarity score and paper position to a bid probability. \n",
    "    The function should be non-decreasing in the similarity score and non-increasing in the paper position. \n",
    "    The function should handle the similarity score imput and the paper position input as arrays containing \n",
    "    the similarity scores and paper positions for each paper ordered by the paper index or the similarity score \n",
    "    and paper position for a fixed paper.\n",
    "    \n",
    "    Ex/ f = lambda s, pi: s/np.log2(pi + 1)\n",
    "    \n",
    "    :param s (array): Similarity scores for each paper ordered by paper index.\n",
    "    \n",
    "    :param bids (array): Number of bids for each paper ordered by the paper index prior to the arrival of the reviewer.\n",
    "    \n",
    "    :param h (array): Heuristic values estimating the number of bids for each paper in the future ordered by the paper index. \n",
    "    \n",
    "    :param trade_param (float): Parameter dictating the weight given to the reviewer-side gain function. \n",
    "    \n",
    "    :param special (bool): indicator for the ability to use computationally effiicent solution. \n",
    "    If the reviewer-side gain function is multiplicatively separable into the form g_r(s, pi) = g_r_s(s)f_p(pi) \n",
    "    where g_r_s is a non-decreasing function of the similarity score and f_p is the non-increasing bidding function\n",
    "    of the position a paper is shown and similarly the bidding function can be decomposed into the form \n",
    "    f(s, pi) = f_s(s)f_p(pi), then a simple sorting routine can be used instead of the linear program. To run the sorting\n",
    "    procedure, the functions g_r and f should take in the paper ordering as an optional argument. \n",
    "    \n",
    "    Ex/ If g_r(s, pi) = (2**s - 1)/np.log2(pi + 1) and f(s, pi) = s/np.log2(pi + 1), then special can be set and \n",
    "    define g_r(s, pi=None) = if pi is None: (2**s - 1) else: (2**s - 1)/np.log2(pi + 1) and similarly define\n",
    "    f(s, pi=None) = if pi is None: s else: s/np.log2(pi + 1).\n",
    "    \n",
    "    return pi_t (array): Array containing the position each paper is to be presented ordered by paper index. For example, \n",
    "    pi_t = [2, 1] means paper 1 is presented in position 2, and paper 2 is presented in position 1. \n",
    "    \"\"\"\n",
    "\n",
    "    d = len(s)\n",
    "\n",
    "    if not special:\n",
    "        # Solve linear assignment problem to get ordering to present.\n",
    "        w_p = lambda j,k: f(s[j], k)*(g_p(bids[j] + h[j] + 1) - g_p(bids[j]+h[j])) \n",
    "        w_r = lambda j,k: trade_param*g_r(s[j], k)\n",
    "        w = np.array([w_p(j, np.arange(1, d+1)) + w_r(j, np.arange(1, d+1)) for j in range(d)])\n",
    "        pi_t = lap.lapjv(-w)[1]\n",
    "        pi_t += 1\n",
    "    else:\n",
    "        # Rank papers from maximum to minimum for alpha breaking ties by the similarity score.\n",
    "        alpha = f(s)*(g_p(bids + h + 1) - g_p(bids + h)) + trade_param*g_r(s)\n",
    "        alpha_pairs = np.array(zip(alpha, np.arange(1, d+1)), dtype=[('alpha', float), ('index', float)])        \n",
    "        pi_t = np.argsort(np.lexsort((alpha_pairs['index'], -alpha_pairs['alpha'])))+1  \n",
    "\n",
    "    return pi_t"
   ]
  },
  {
   "cell_type": "markdown",
   "metadata": {},
   "source": [
    "## Example"
   ]
  },
  {
   "cell_type": "code",
   "execution_count": 6,
   "metadata": {},
   "outputs": [],
   "source": [
    "# Configuration\n",
    "num_papers = 100\n",
    "g_p = lambda x: np.sqrt(x)\n",
    "\n",
    "def g_r(s, pi=None): \n",
    "    if pi is None:\n",
    "        return (2.**(s)-1)\n",
    "    else:\n",
    "        return (2.**(s)-1)/np.log2(pi + 1)\n",
    "    \n",
    "def f(s, pi=None): \n",
    "    if pi is None:\n",
    "        return s\n",
    "    else:\n",
    "        return s/np.log2(pi + 1)\n",
    "\n",
    "s = np.random.rand(num_papers)\n",
    "bids = np.random.randint(0, 10, num_papers) \n",
    "h = np.random.rand(num_papers)\n",
    "trade_param = 1"
   ]
  },
  {
   "cell_type": "code",
   "execution_count": 7,
   "metadata": {},
   "outputs": [],
   "source": [
    "# Linear Program Method to Find Paper Ordering\n",
    "pi_lp = super_algorithm(g_p, g_r, f, s, bids, h, trade_param, special=False)"
   ]
  },
  {
   "cell_type": "code",
   "execution_count": 8,
   "metadata": {},
   "outputs": [],
   "source": [
    "# Sorting Method to Find Paper Ordering\n",
    "pi_sort = super_algorithm(g_p, g_r, f, s, bids, h, trade_param, special=True)"
   ]
  },
  {
   "cell_type": "code",
   "execution_count": 9,
   "metadata": {},
   "outputs": [],
   "source": [
    "# Equivalence\n",
    "assert (pi_lp == pi_sort).all()"
   ]
  },
  {
   "cell_type": "markdown",
   "metadata": {},
   "source": [
    "### Timing Comparison"
   ]
  },
  {
   "cell_type": "code",
   "execution_count": 12,
   "metadata": {},
   "outputs": [],
   "source": [
    "lp_times = []\n",
    "sort_times = []\n",
    "num_paper_sweep = [100, 250, 500, 1000, 1500]\n",
    "\n",
    "for num_papers in num_paper_sweep:\n",
    "    \n",
    "    s = np.random.rand(num_papers)\n",
    "    bids = np.random.randint(0, 10, num_papers) \n",
    "    h = np.random.rand(num_papers)\n",
    "    trade_param = 1\n",
    "\n",
    "    start = time.time()\n",
    "    # Linear Program Method to Find Paper Ordering\n",
    "    pi_lp = super_algorithm(g_p, g_r, f, s, bids, h, trade_param, special=False)\n",
    "    end = time.time()\n",
    "    lp_times.append(end-start)\n",
    "    \n",
    "    start = time.time()\n",
    "    # Sorting Method to Find Paper Ordering\n",
    "    pi_sort = super_algorithm(g_p, g_r, f, s, bids, h, trade_param, special=True)\n",
    "    end = time.time()\n",
    "    sort_times.append(end-start)\n",
    "    \n",
    "    # Equivalence\n",
    "    assert (pi_lp == pi_sort).all()"
   ]
  },
  {
   "cell_type": "code",
   "execution_count": 13,
   "metadata": {},
   "outputs": [
    {
     "data": {
      "image/png": "[encoded data removed]",
      "text/plain": [
       "<matplotlib.figure.Figure at 0x1177d0b50>"
      ]
     },
     "metadata": {},
     "output_type": "display_data"
    }
   ],
   "source": [
    "plt.plot(num_paper_sweep, sort_times, '-o', label='Sorting')\n",
    "plt.plot(num_paper_sweep, lp_times, '-o', label='Linear Program')\n",
    "plt.xlabel('Number of Papers')\n",
    "plt.ylabel('Time (s)')\n",
    "plt.legend()\n",
    "plt.show()"
   ]
  },
  {
   "cell_type": "code",
   "execution_count": 14,
   "metadata": {},
   "outputs": [],
   "source": [
    "lp_times = []\n",
    "sort_times = []\n",
    "num_paper_sweep = [100, 1000, 10000, 100000, 1000000]\n",
    "\n",
    "for num_papers in num_paper_sweep:\n",
    "    \n",
    "    s = np.random.rand(num_papers)\n",
    "    bids = np.random.randint(0, 10, num_papers) \n",
    "    h = np.random.rand(num_papers)\n",
    "    trade_param = 1\n",
    "    \n",
    "    start = time.time()\n",
    "    # Sorting Method to Find Paper Ordering\n",
    "    pi_sort = super_algorithm(g_p, g_r, f, s, bids, h, trade_param, special=True)\n",
    "    end = time.time()\n",
    "    sort_times.append(end-start)"
   ]
  },
  {
   "cell_type": "code",
   "execution_count": 15,
   "metadata": {},
   "outputs": [
    {
     "data": {
      "image/png": "[encoded data removed]",
      "text/plain": [
       "<matplotlib.figure.Figure at 0x11ceab5d0>"
      ]
     },
     "metadata": {},
     "output_type": "display_data"
    }
   ],
   "source": [
    "plt.plot(num_paper_sweep, sort_times, '-o', label='Sorting')\n",
    "plt.xscale('log')\n",
    "plt.xlabel('Number of Papers (Log Scale)')\n",
    "plt.ylabel('Time (s)')\n",
    "plt.legend()\n",
    "plt.show()"
   ]
  }
 ],
 "metadata": {
  "kernelspec": {
   "display_name": "Python [conda env:python27]",
   "language": "python",
   "name": "conda-env-python27-py"
  },
  "language_info": {
   "codemirror_mode": {
    "name": "ipython",
    "version": 2
   },
   "file_extension": ".py",
   "mimetype": "text/x-python",
   "name": "python",
   "nbconvert_exporter": "python",
   "pygments_lexer": "ipython2",
   "version": "2.7.16"
  }
 },
 "nbformat": 4,
 "nbformat_minor": 4
}
